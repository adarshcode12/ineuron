{
 "cells": [
  {
   "cell_type": "code",
   "execution_count": 1,
   "metadata": {
    "scrolled": true
   },
   "outputs": [],
   "source": [
    "import logging as lg  # logging as jupyter does not have it inbuilt\n",
    "import os             # o move from one directory to another\n"
   ]
  },
  {
   "cell_type": "code",
   "execution_count": 2,
   "metadata": {},
   "outputs": [
    {
     "data": {
      "text/plain": [
       "'C:\\\\Users\\\\Adarsh kumar'"
      ]
     },
     "execution_count": 2,
     "metadata": {},
     "output_type": "execute_result"
    }
   ],
   "source": [
    "pwd\n"
   ]
  },
  {
   "cell_type": "code",
   "execution_count": 9,
   "metadata": {},
   "outputs": [],
   "source": [
    "os.chdir('D:\\ineuron\\logging and debugging\\logging')   # move to another directory"
   ]
  },
  {
   "cell_type": "code",
   "execution_count": 11,
   "metadata": {},
   "outputs": [],
   "source": [
    "lg.basicConfig(filename='test1.log',level=lg.INFO)"
   ]
  },
  {
   "cell_type": "code",
   "execution_count": 12,
   "metadata": {},
   "outputs": [],
   "source": [
    "lg.error(\"this is msg for error\")\n",
    "lg.warning(\"this is a first warning of my program so modify it \")\n",
    "lg.info(\" i am going to start my program\")"
   ]
  },
  {
   "cell_type": "code",
   "execution_count": 13,
   "metadata": {},
   "outputs": [],
   "source": [
    "def test1(a,b):\n",
    "    try:\n",
    "        lg.info(a,b)\n",
    "        div=a/b\n",
    "        return div\n",
    "    except Exception as e:\n",
    "        print('check log')\n",
    "        lg.error('error:-')\n",
    "        lg.exception(str(e))"
   ]
  },
  {
   "cell_type": "code",
   "execution_count": 15,
   "metadata": {},
   "outputs": [
    {
     "name": "stdout",
     "output_type": "stream",
     "text": [
      "check log\n"
     ]
    }
   ],
   "source": [
    "test1(4,0)"
   ]
  },
  {
   "cell_type": "code",
   "execution_count": 17,
   "metadata": {},
   "outputs": [],
   "source": [
    "lg.shutdown()\n"
   ]
  },
  {
   "cell_type": "code",
   "execution_count": 57,
   "metadata": {},
   "outputs": [],
   "source": [
    "import logging as lg\n",
    "import os"
   ]
  },
  {
   "cell_type": "code",
   "execution_count": 58,
   "metadata": {},
   "outputs": [],
   "source": [
    "lg.basicConfig(filename='test1.log',level=lg.INFO, format='%(asctime)s %(message)s')"
   ]
  },
  {
   "cell_type": "code",
   "execution_count": 59,
   "metadata": {},
   "outputs": [
    {
     "name": "stderr",
     "output_type": "stream",
     "text": [
      "%(asctime)s %(levelname)s %(message)s\n",
      "%(asctime)s %(levelname)s %(message)s\n",
      "%(asctime)s %(name)s %(levelname)s %(message)s\n",
      "%(asctime)s %(name)s %(levelname)s %(message)s\n",
      "%(asctime)s %(name)s %(levelname)s %(message)s\n",
      "%(asctime)s %(name)s %(levelname)s %(message)s\n",
      "%(asctime)s %(levelname)s %(message)s\n",
      "%(asctime)s %(levelname)s %(message)s\n",
      "%(asctime)s %(levelname)s %(message)s\n",
      "%(asctime)s %(levelname)s %(message)s\n",
      "%(asctime)s %(name)s %(levelname)s %(message)s\n",
      "%(asctime)s %(name)s %(levelname)s %(message)s\n",
      "%(asctime)s %(name)s %(levelname)s %(message)s\n",
      "%(asctime)s %(name)s %(levelname)s %(message)s\n",
      "%(asctime)s %(levelname)s %(message)s\n",
      "%(asctime)s %(levelname)s %(message)s\n"
     ]
    },
    {
     "name": "stdout",
     "output_type": "stream",
     "text": [
      "check log\n"
     ]
    }
   ],
   "source": [
    "test1(4,0)"
   ]
  },
  {
   "cell_type": "code",
   "execution_count": 1,
   "metadata": {},
   "outputs": [],
   "source": [
    "import logging as lg\n",
    "import os"
   ]
  },
  {
   "cell_type": "code",
   "execution_count": 2,
   "metadata": {},
   "outputs": [
    {
     "data": {
      "text/plain": [
       "'C:\\\\Users\\\\Adarsh kumar'"
      ]
     },
     "execution_count": 2,
     "metadata": {},
     "output_type": "execute_result"
    }
   ],
   "source": [
    "pwd"
   ]
  },
  {
   "cell_type": "code",
   "execution_count": 3,
   "metadata": {},
   "outputs": [],
   "source": [
    "os.chdir('D:\\\\ineuron\\\\logging and debugging\\\\logging\\\\new')   # move to another directory"
   ]
  },
  {
   "cell_type": "code",
   "execution_count": 4,
   "metadata": {},
   "outputs": [],
   "source": [
    "lg.basicConfig(filename='test3.log',level=lg.INFO)\n",
    "console_log=lg.StreamHandler()\n",
    "console_log.setLevel(lg.ERROR)"
   ]
  },
  {
   "cell_type": "code",
   "execution_count": 5,
   "metadata": {},
   "outputs": [],
   "source": [
    "format='%(asctime)s %(levelname)s %(message)s'\n",
    "console_log.setFormatter(format)"
   ]
  },
  {
   "cell_type": "code",
   "execution_count": 6,
   "metadata": {},
   "outputs": [],
   "source": [
    "lg.getLogger('').addHandler(console_log)\n",
    "log1=lg.getLogger('loger1.area1:')\n",
    "log2=lg.getLogger('loger2.area2:')"
   ]
  },
  {
   "cell_type": "code",
   "execution_count": 7,
   "metadata": {},
   "outputs": [],
   "source": [
    "log1.info('this is logger-1')"
   ]
  },
  {
   "cell_type": "code",
   "execution_count": null,
   "metadata": {},
   "outputs": [],
   "source": []
  },
  {
   "cell_type": "code",
   "execution_count": null,
   "metadata": {},
   "outputs": [],
   "source": []
  },
  {
   "cell_type": "code",
   "execution_count": null,
   "metadata": {},
   "outputs": [],
   "source": []
  },
  {
   "cell_type": "code",
   "execution_count": null,
   "metadata": {},
   "outputs": [],
   "source": []
  }
 ],
 "metadata": {
  "kernelspec": {
   "display_name": "Python 3",
   "language": "python",
   "name": "python3"
  },
  "language_info": {
   "codemirror_mode": {
    "name": "ipython",
    "version": 3
   },
   "file_extension": ".py",
   "mimetype": "text/x-python",
   "name": "python",
   "nbconvert_exporter": "python",
   "pygments_lexer": "ipython3",
   "version": "3.8.5"
  }
 },
 "nbformat": 4,
 "nbformat_minor": 4
}
