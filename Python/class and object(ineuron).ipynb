{
 "cells": [
  {
   "cell_type": "code",
   "execution_count": 2,
   "metadata": {},
   "outputs": [],
   "source": [
    "# class in python"
   ]
  },
  {
   "cell_type": "code",
   "execution_count": 3,
   "metadata": {},
   "outputs": [],
   "source": [
    "class car:\n",
    "    pass\n"
   ]
  },
  {
   "cell_type": "code",
   "execution_count": 7,
   "metadata": {},
   "outputs": [],
   "source": [
    "audir8=car()\n",
    "audir8.milage=10\n",
    "audir8.year=2016\n",
    "audir8.model=\"fgyd\"\n",
    "audir8.country=\"germany\"\n"
   ]
  },
  {
   "cell_type": "code",
   "execution_count": 8,
   "metadata": {},
   "outputs": [
    {
     "data": {
      "text/plain": [
       "'germany'"
      ]
     },
     "execution_count": 8,
     "metadata": {},
     "output_type": "execute_result"
    }
   ],
   "source": [
    "audir8.country\n"
   ]
  },
  {
   "cell_type": "code",
   "execution_count": 11,
   "metadata": {},
   "outputs": [],
   "source": [
    "nano=car()\n",
    "nano.milage=20\n",
    "nano.year=2012\n",
    "nano.model=\"qwe\"\n",
    "nano.country=\"india\""
   ]
  },
  {
   "cell_type": "code",
   "execution_count": 14,
   "metadata": {},
   "outputs": [],
   "source": [
    "# this is timetking process process to mention for each year so\n",
    "# so we make a function in class"
   ]
  },
  {
   "cell_type": "code",
   "execution_count": null,
   "metadata": {},
   "outputs": [],
   "source": [
    "# __init__ is type of constructor in python which is called by itself if the object \n",
    "# of the class is created.\n",
    "\n",
    "# self.variable_name is the the variale which is called to retrieve the function."
   ]
  },
  {
   "cell_type": "code",
   "execution_count": 13,
   "metadata": {},
   "outputs": [],
   "source": [
    "class car:\n",
    "    def __init__(self,milage,year,model,country):\n",
    "        self.milage=milage\n",
    "        self.year=year\n",
    "        self.model=model\n",
    "        self.country=country\n",
    "        "
   ]
  },
  {
   "cell_type": "code",
   "execution_count": 18,
   "metadata": {},
   "outputs": [],
   "source": [
    "nano1=car(20,2020,\"asd\",\"india\")\n"
   ]
  },
  {
   "cell_type": "code",
   "execution_count": 19,
   "metadata": {},
   "outputs": [
    {
     "data": {
      "text/plain": [
       "20"
      ]
     },
     "execution_count": 19,
     "metadata": {},
     "output_type": "execute_result"
    }
   ],
   "source": [
    "nano1.milage"
   ]
  },
  {
   "cell_type": "code",
   "execution_count": 20,
   "metadata": {},
   "outputs": [],
   "source": [
    "# Self --> is not a keyword and other key can be used inplace of self\n",
    "# it is just a way to call the object of the class in the function.\n",
    "\n",
    "# __str__ is to print the function when nothing is returned or to show same as constructor\\\n",
    "\n"
   ]
  },
  {
   "cell_type": "code",
   "execution_count": 21,
   "metadata": {},
   "outputs": [],
   "source": [
    "class car :\n",
    "    def __init__(a, m, y , ma , mo):\n",
    "        a.milage = m\n",
    "        a.year = y\n",
    "        a.make = ma\n",
    "        a.model = mo\n",
    "        \n",
    "    def age(b,current_year):\n",
    "        return current_year - b.year\n",
    "    \n",
    "    \n",
    "    def milage1(self):\n",
    "        print(\"print a milage of car \" , self.milage)\n",
    "        #return self.milage\n",
    "        \n",
    "    def __str__(c):\n",
    "        return \"this is my car class i have created \""
   ]
  },
  {
   "cell_type": "code",
   "execution_count": 28,
   "metadata": {},
   "outputs": [
    {
     "name": "stdout",
     "output_type": "stream",
     "text": [
      "print a milage of car  20\n"
     ]
    },
    {
     "data": {
      "text/plain": [
       "20"
      ]
     },
     "execution_count": 28,
     "metadata": {},
     "output_type": "execute_result"
    }
   ],
   "source": [
    "nano67 = car(20, 2020 , 345324,\"234fsdf\")\n",
    "nano67.milage1()"
   ]
  },
  {
   "cell_type": "code",
   "execution_count": 29,
   "metadata": {},
   "outputs": [
    {
     "data": {
      "text/plain": [
       "1"
      ]
     },
     "execution_count": 29,
     "metadata": {},
     "output_type": "execute_result"
    }
   ],
   "source": [
    "nano67.age(2021)"
   ]
  },
  {
   "cell_type": "code",
   "execution_count": 30,
   "metadata": {},
   "outputs": [],
   "source": [
    "# we can also pass the list of names as year in single class object and can \n",
    "# be retrieve using the for or while loop\n"
   ]
  },
  {
   "cell_type": "code",
   "execution_count": 33,
   "metadata": {},
   "outputs": [],
   "source": [
    "class student:\n",
    "    \n",
    "    def __init__(self , name , rollno , joining_date , current_topic):\n",
    "        self.name = name \n",
    "        self.rollno = rollno\n",
    "        self.joining_date =  joining_date\n",
    "        self.current_topic = current_topic\n",
    "        \n",
    "        \n",
    "    def name_Parsing(self) :\n",
    "\n",
    "        if type(self.name) == list:\n",
    "            for i in self.name :\n",
    "                print(\"name of the stuent \" , i )\n",
    "        else : \n",
    "            print(\"provided name is not in a form of list \")\n",
    "    \n",
    "        \n",
    "    def crt_topic(self):\n",
    "        print(\"current topic discussed in my class is \" , self.current_topic)\n",
    "        \n",
    "    def str_rollno(self):\n",
    "        \n",
    "        try :\n",
    "        \n",
    "            if type(self.rollno) == str:\n",
    "                print(\"do nothing \")\n",
    "\n",
    "            else :\n",
    "                return str(self.rollno)\n",
    "        \n",
    "        except Exception as e  :\n",
    "            \n",
    "            print(\"this is my erro msg \" , e )\n",
    "        \n",
    "        \n",
    "    def duration(self,*current_date) :\n",
    "        \n",
    "        print(\"duration of student in my class is \" , current_date- self.joining_date)\n",
    "        \n",
    "    def __str__(self):\n",
    "        \n",
    "        \n",
    "        return \"this is strudent class where they can tyr to input there own data and they can try to fetch it \"\n",
    "          \n"
   ]
  },
  {
   "cell_type": "code",
   "execution_count": 34,
   "metadata": {},
   "outputs": [],
   "source": [
    "pawan=student(['adarsh','manu','keshav','abhinav'],[49,48,168,166],'july','oops')"
   ]
  },
  {
   "cell_type": "code",
   "execution_count": 36,
   "metadata": {},
   "outputs": [
    {
     "name": "stdout",
     "output_type": "stream",
     "text": [
      "name of the stuent  adarsh\n",
      "name of the stuent  manu\n",
      "name of the stuent  keshav\n",
      "name of the stuent  abhinav\n"
     ]
    }
   ],
   "source": [
    "pawan.name_Parsing()"
   ]
  },
  {
   "cell_type": "code",
   "execution_count": null,
   "metadata": {},
   "outputs": [],
   "source": []
  },
  {
   "cell_type": "code",
   "execution_count": 37,
   "metadata": {},
   "outputs": [],
   "source": [
    "# challenge Question\n"
   ]
  },
  {
   "cell_type": "code",
   "execution_count": 44,
   "metadata": {},
   "outputs": [
    {
     "name": "stdout",
     "output_type": "stream",
     "text": [
      "\n"
     ]
    }
   ],
   "source": [
    "# level-1\n",
    "class data:\n",
    "    def __init__(self,filename,filetype,data,size):\n",
    "        self.filename=filename\n",
    "        self.filetype=filetype\n",
    "        self.data=data\n",
    "        self.size=size\n",
    "    \n",
    "    def fileopen(self):\n",
    "        f=open(self.filename+\".\"+self.filetype,\"w\")\n",
    "    \n",
    "    def fileread(self):\n",
    "        f=open(self.filename+\".\"+self.filetype,\"r\")\n",
    "        print(f.read())\n",
    "    \n",
    "    def fileappend(self):\n",
    "        f=open(self.filename+\".\"+self.filetype,\"w\")\n",
    "        f.write(\"appending data to file\")\n",
    "        f.close()\n",
    "        \n",
    "file1=data('file1','txt','2021-04-11','2MB')\n",
    "file1.fileopen()\n",
    "file1.fileread()\n",
    "file1.fileappend()\n",
    "\n",
    "        \n",
    "    \n",
    "        "
   ]
  },
  {
   "cell_type": "code",
   "execution_count": 45,
   "metadata": {},
   "outputs": [
    {
     "name": "stdout",
     "output_type": "stream",
     "text": [
      "\n"
     ]
    }
   ],
   "source": [
    "# level-2\n",
    "import logging as lg\n",
    "lg.basicConfig(filename='OOPS.log', level=lg.ERROR)\n",
    "class data:\n",
    "    def __init__(self,filename,filetype,data,size):\n",
    "        self.filename=filename\n",
    "        self.filetype=filetype\n",
    "        self.data=data\n",
    "        self.size=size\n",
    "    \n",
    "    def fileopen(self):\n",
    "        try:\n",
    "            f=open(self.filename+\".\"+self.filetype,\"w\")\n",
    "        except Exception as e:\n",
    "            self.logging(e)\n",
    "        \n",
    "    def fileread(self):\n",
    "        try:    \n",
    "            f=open(self.filename+\".\"+self.filetype,\"r\")\n",
    "            print(f.read())\n",
    "        except FileNotFoundError as e:\n",
    "              self.logging(e)\n",
    "        except Exception as e:\n",
    "              self.logging(e)\n",
    "    \n",
    "    def fileappend(self):\n",
    "        try:    \n",
    "            f=open(self.filename+\".\"+self.filetype,\"w\")\n",
    "            f.write(\"appending data to file\")\n",
    "            f.close()\n",
    "        except FileNotFoundError as e:\n",
    "              self.logging(e)\n",
    "        except Exception as e:\n",
    "              self.logging(e)\n",
    "    \n",
    "    def logging(self, log):\n",
    "        lg.error(log) \n",
    "        \n",
    "file1=data('file1','txt','2021-04-11','2MB')\n",
    "file1.fileopen()\n",
    "file1.fileread()\n",
    "file1.fileappend()\n"
   ]
  }
 ],
 "metadata": {
  "kernelspec": {
   "display_name": "Python 3",
   "language": "python",
   "name": "python3"
  },
  "language_info": {
   "codemirror_mode": {
    "name": "ipython",
    "version": 3
   },
   "file_extension": ".py",
   "mimetype": "text/x-python",
   "name": "python",
   "nbconvert_exporter": "python",
   "pygments_lexer": "ipython3",
   "version": "3.8.5"
  }
 },
 "nbformat": 4,
 "nbformat_minor": 4
}
